{
 "cells": [
  {
   "cell_type": "code",
   "execution_count": 13,
   "metadata": {},
   "outputs": [],
   "source": [
    "import requests\n",
    "\n",
    "def get_image(prompt: str, negative_prompt: str, filename: str):\n",
    "    response = requests.post(\n",
    "        f\"https://api.stability.ai/v2beta/stable-image/generate/sd3\",\n",
    "        headers={\n",
    "            \"authorization\": f\"Bearer sk-MYKEY\",\n",
    "            \"accept\": \"image/*\"\n",
    "        },\n",
    "        files={\"none\": ''},\n",
    "        data={\n",
    "            \"prompt\": prompt,\n",
    "            \"output_format\": \"jpeg\",\n",
    "            \"seed\": 42,\n",
    "            \"negative_prompt\": negative_prompt,\n",
    "        },\n",
    "    )\n",
    "\n",
    "    if response.status_code == 200:\n",
    "        with open(filename, 'wb') as file:\n",
    "            file.write(response.content)\n",
    "    else:\n",
    "        raise Exception(str(response.json()))\n"
   ]
  },
  {
   "cell_type": "code",
   "execution_count": 23,
   "metadata": {},
   "outputs": [],
   "source": [
    "prompt = \"A heartfelt scene from a 1960s Turkish Yeşilçam movie: Two lovers run through the forest covered with autumn trees, holding hands and laughing.\"\n",
    "negative_prompt = \"bad anatomy, extra arms, extra fingers, fused fingers, missing leg, missing hand\"\n",
    "filename = \"yesilcam5_neg.jpeg\"\n",
    "\n",
    "get_image(prompt, negative_prompt, filename)"
   ]
  }
 ],
 "metadata": {
  "kernelspec": {
   "display_name": "venv",
   "language": "python",
   "name": "python3"
  },
  "language_info": {
   "codemirror_mode": {
    "name": "ipython",
    "version": 3
   },
   "file_extension": ".py",
   "mimetype": "text/x-python",
   "name": "python",
   "nbconvert_exporter": "python",
   "pygments_lexer": "ipython3",
   "version": "3.11.5"
  }
 },
 "nbformat": 4,
 "nbformat_minor": 2
}
